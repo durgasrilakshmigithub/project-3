{
  "nbformat": 4,
  "nbformat_minor": 0,
  "metadata": {
    "colab": {
      "provenance": []
    },
    "kernelspec": {
      "name": "python3",
      "display_name": "Python 3"
    },
    "language_info": {
      "name": "python"
    }
  },
  "cells": [
    {
      "cell_type": "code",
      "execution_count": 1,
      "metadata": {
        "id": "H5n4_hCiUZ04"
      },
      "outputs": [],
      "source": [
        "import tensorflow\n",
        "from tensorflow import keras\n",
        "from tensorflow.keras import Sequential\n",
        "from tensorflow.keras.layers import Dense,Flatten\n",
        "import matplotlib.pyplot as plt"
      ]
    },
    {
      "cell_type": "code",
      "source": [
        "(x_train,y_train),(x_test,y_test)= keras.datasets.mnist.load_data()"
      ],
      "metadata": {
        "colab": {
          "base_uri": "https://localhost:8080/"
        },
        "id": "MTEZCbjMUblz",
        "outputId": "8eb768df-0ae4-4357-c38e-9c1f7999e896"
      },
      "execution_count": 2,
      "outputs": [
        {
          "output_type": "stream",
          "name": "stdout",
          "text": [
            "Downloading data from https://storage.googleapis.com/tensorflow/tf-keras-datasets/mnist.npz\n",
            "11490434/11490434 [==============================] - 0s 0us/step\n"
          ]
        }
      ]
    },
    {
      "cell_type": "code",
      "source": [
        "x_train.shape"
      ],
      "metadata": {
        "colab": {
          "base_uri": "https://localhost:8080/"
        },
        "id": "BGSnTuokUeId",
        "outputId": "da083a83-5c2b-4b97-d338-2062394cce1c"
      },
      "execution_count": 3,
      "outputs": [
        {
          "output_type": "execute_result",
          "data": {
            "text/plain": [
              "(60000, 28, 28)"
            ]
          },
          "metadata": {},
          "execution_count": 3
        }
      ]
    },
    {
      "cell_type": "code",
      "source": [
        "y_train.shape"
      ],
      "metadata": {
        "colab": {
          "base_uri": "https://localhost:8080/"
        },
        "id": "pLCU348fUeLS",
        "outputId": "27d18da8-1b3e-4e92-8070-88374a4db9df"
      },
      "execution_count": 4,
      "outputs": [
        {
          "output_type": "execute_result",
          "data": {
            "text/plain": [
              "(60000,)"
            ]
          },
          "metadata": {},
          "execution_count": 4
        }
      ]
    },
    {
      "cell_type": "code",
      "source": [
        "plt.imshow(x_train[4])"
      ],
      "metadata": {
        "colab": {
          "base_uri": "https://localhost:8080/",
          "height": 447
        },
        "id": "w9maoh5fUeN-",
        "outputId": "719a14c7-9947-4a61-accd-d9fe0059a1de"
      },
      "execution_count": 5,
      "outputs": [
        {
          "output_type": "execute_result",
          "data": {
            "text/plain": [
              "<matplotlib.image.AxesImage at 0x79c2c6e3abc0>"
            ]
          },
          "metadata": {},
          "execution_count": 5
        },
        {
          "output_type": "display_data",
          "data": {
            "text/plain": [
              "<Figure size 640x480 with 1 Axes>"
            ],
            "image/png": "[encoded data removed]"
          },
          "metadata": {}
        }
      ]
    },
    {
      "cell_type": "code",
      "source": [
        "x_train = x_train/255\n",
        "x_test = x_test/255"
      ],
      "metadata": {
        "id": "xuUaAIVHUeRB"
      },
      "execution_count": 6,
      "outputs": []
    },
    {
      "cell_type": "code",
      "source": [
        "model = Sequential()\n",
        "\n",
        "model.add(Flatten(input_shape=(28,28)))\n",
        "model.add(Dense(128,activation='relu'))\n",
        "model.add(Dense(32,activation='relu'))\n",
        "model.add(Dense(10,activation='softmax'))"
      ],
      "metadata": {
        "id": "O6gv9RjPUeXs"
      },
      "execution_count": 10,
      "outputs": []
    },
    {
      "cell_type": "code",
      "source": [
        "model.summary()"
      ],
      "metadata": {
        "colab": {
          "base_uri": "https://localhost:8080/"
        },
        "id": "3rQGXaHFVg3G",
        "outputId": "c59d2712-a226-4660-fd77-f308c63aea44"
      },
      "execution_count": 11,
      "outputs": [
        {
          "output_type": "stream",
          "name": "stdout",
          "text": [
            "Model: \"sequential_2\"\n",
            "_________________________________________________________________\n",
            " Layer (type)                Output Shape              Param #   \n",
            "=================================================================\n",
            " flatten (Flatten)           (None, 784)               0         \n",
            "                                                                 \n",
            " dense (Dense)               (None, 128)               100480    \n",
            "                                                                 \n",
            " dense_1 (Dense)             (None, 32)                4128      \n",
            "                                                                 \n",
            " dense_2 (Dense)             (None, 10)                330       \n",
            "                                                                 \n",
            "=================================================================\n",
            "Total params: 104938 (409.91 KB)\n",
            "Trainable params: 104938 (409.91 KB)\n",
            "Non-trainable params: 0 (0.00 Byte)\n",
            "_________________________________________________________________\n"
          ]
        }
      ]
    },
    {
      "cell_type": "code",
      "source": [
        "model.compile(loss='sparse_categorical_crossentropy',optimizer='Adam',metrics=['accuracy'])"
      ],
      "metadata": {
        "id": "uFsFKPIaVqz6"
      },
      "execution_count": 12,
      "outputs": []
    },
    {
      "cell_type": "code",
      "source": [
        "history = model.fit(x_train,y_train,epochs=25,validation_split=0.2)"
      ],
      "metadata": {
        "colab": {
          "base_uri": "https://localhost:8080/"
        },
        "id": "V7SmhvytVuUU",
        "outputId": "59ab67ca-564c-4f4b-e3ac-1877a2fe6cdf"
      },
      "execution_count": 14,
      "outputs": [
        {
          "output_type": "stream",
          "name": "stdout",
          "text": [
            "Epoch 1/25\n",
            "1500/1500 [==============================] - 8s 4ms/step - loss: 0.2787 - accuracy: 0.9192 - val_loss: 0.1492 - val_accuracy: 0.9568\n",
            "Epoch 2/25\n",
            "1500/1500 [==============================] - 7s 5ms/step - loss: 0.1219 - accuracy: 0.9629 - val_loss: 0.1190 - val_accuracy: 0.9655\n",
            "Epoch 3/25\n",
            "1500/1500 [==============================] - 7s 5ms/step - loss: 0.0827 - accuracy: 0.9745 - val_loss: 0.1037 - val_accuracy: 0.9692\n",
            "Epoch 4/25\n",
            "1500/1500 [==============================] - 8s 5ms/step - loss: 0.0618 - accuracy: 0.9811 - val_loss: 0.0975 - val_accuracy: 0.9712\n",
            "Epoch 5/25\n",
            "1500/1500 [==============================] - 11s 7ms/step - loss: 0.0490 - accuracy: 0.9846 - val_loss: 0.0981 - val_accuracy: 0.9719\n",
            "Epoch 6/25\n",
            "1500/1500 [==============================] - 9s 6ms/step - loss: 0.0386 - accuracy: 0.9874 - val_loss: 0.0980 - val_accuracy: 0.9718\n",
            "Epoch 7/25\n",
            "1500/1500 [==============================] - 10s 7ms/step - loss: 0.0315 - accuracy: 0.9894 - val_loss: 0.0982 - val_accuracy: 0.9757\n",
            "Epoch 8/25\n",
            "1500/1500 [==============================] - 11s 7ms/step - loss: 0.0272 - accuracy: 0.9911 - val_loss: 0.1120 - val_accuracy: 0.9735\n",
            "Epoch 9/25\n",
            "1500/1500 [==============================] - 8s 5ms/step - loss: 0.0212 - accuracy: 0.9933 - val_loss: 0.1209 - val_accuracy: 0.9719\n",
            "Epoch 10/25\n",
            "1500/1500 [==============================] - 6s 4ms/step - loss: 0.0197 - accuracy: 0.9934 - val_loss: 0.1106 - val_accuracy: 0.9768\n",
            "Epoch 11/25\n",
            "1500/1500 [==============================] - 6s 4ms/step - loss: 0.0181 - accuracy: 0.9939 - val_loss: 0.1179 - val_accuracy: 0.9744\n",
            "Epoch 12/25\n",
            "1500/1500 [==============================] - 6s 4ms/step - loss: 0.0167 - accuracy: 0.9941 - val_loss: 0.1142 - val_accuracy: 0.9760\n",
            "Epoch 13/25\n",
            "1500/1500 [==============================] - 6s 4ms/step - loss: 0.0152 - accuracy: 0.9953 - val_loss: 0.1383 - val_accuracy: 0.9729\n",
            "Epoch 14/25\n",
            "1500/1500 [==============================] - 6s 4ms/step - loss: 0.0127 - accuracy: 0.9960 - val_loss: 0.1225 - val_accuracy: 0.9762\n",
            "Epoch 15/25\n",
            "1500/1500 [==============================] - 6s 4ms/step - loss: 0.0120 - accuracy: 0.9959 - val_loss: 0.1252 - val_accuracy: 0.9747\n",
            "Epoch 16/25\n",
            "1500/1500 [==============================] - 6s 4ms/step - loss: 0.0117 - accuracy: 0.9961 - val_loss: 0.1275 - val_accuracy: 0.9762\n",
            "Epoch 17/25\n",
            "1500/1500 [==============================] - 6s 4ms/step - loss: 0.0103 - accuracy: 0.9965 - val_loss: 0.1259 - val_accuracy: 0.9775\n",
            "Epoch 18/25\n",
            "1500/1500 [==============================] - 6s 4ms/step - loss: 0.0084 - accuracy: 0.9971 - val_loss: 0.1457 - val_accuracy: 0.9752\n",
            "Epoch 19/25\n",
            "1500/1500 [==============================] - 6s 4ms/step - loss: 0.0125 - accuracy: 0.9962 - val_loss: 0.1603 - val_accuracy: 0.9728\n",
            "Epoch 20/25\n",
            "1500/1500 [==============================] - 6s 4ms/step - loss: 0.0110 - accuracy: 0.9964 - val_loss: 0.1849 - val_accuracy: 0.9685\n",
            "Epoch 21/25\n",
            "1500/1500 [==============================] - 7s 5ms/step - loss: 0.0089 - accuracy: 0.9970 - val_loss: 0.1484 - val_accuracy: 0.9754\n",
            "Epoch 22/25\n",
            "1500/1500 [==============================] - 6s 4ms/step - loss: 0.0091 - accuracy: 0.9970 - val_loss: 0.1459 - val_accuracy: 0.9776\n",
            "Epoch 23/25\n",
            "1500/1500 [==============================] - 6s 4ms/step - loss: 0.0097 - accuracy: 0.9970 - val_loss: 0.1561 - val_accuracy: 0.9743\n",
            "Epoch 24/25\n",
            "1500/1500 [==============================] - 7s 4ms/step - loss: 0.0055 - accuracy: 0.9982 - val_loss: 0.1487 - val_accuracy: 0.9762\n",
            "Epoch 25/25\n",
            "1500/1500 [==============================] - 5s 4ms/step - loss: 0.0109 - accuracy: 0.9966 - val_loss: 0.1867 - val_accuracy: 0.9724\n"
          ]
        }
      ]
    },
    {
      "cell_type": "code",
      "source": [],
      "metadata": {
        "id": "2vpwVM2AVwtR"
      },
      "execution_count": 17,
      "outputs": []
    },
    {
      "cell_type": "code",
      "source": [
        "y_prob = model.predict(x_test )"
      ],
      "metadata": {
        "colab": {
          "base_uri": "https://localhost:8080/"
        },
        "id": "QFfvWKMcXWFj",
        "outputId": "b8a5aa15-f0f1-4c33-dd6c-847f1f7b1f54"
      },
      "execution_count": 17,
      "outputs": [
        {
          "output_type": "stream",
          "name": "stdout",
          "text": [
            "313/313 [==============================] - 2s 4ms/step\n"
          ]
        }
      ]
    },
    {
      "cell_type": "code",
      "source": [
        "y_prob"
      ],
      "metadata": {
        "colab": {
          "base_uri": "https://localhost:8080/"
        },
        "id": "9cppe_1iXlsK",
        "outputId": "1d496b99-80dc-44d6-9f5b-63a0e9143260"
      },
      "execution_count": 18,
      "outputs": [
        {
          "output_type": "execute_result",
          "data": {
            "text/plain": [
              "array([[4.7506676e-14, 5.5305507e-18, 1.6533535e-11, ..., 9.9999994e-01,\n",
              "        1.2828030e-20, 5.2080708e-11],\n",
              "       [2.8926113e-24, 2.8644884e-10, 9.9999994e-01, ..., 2.7738503e-16,\n",
              "        8.9227746e-21, 9.5729824e-31],\n",
              "       [2.7154714e-16, 9.9999994e-01, 5.2077429e-11, ..., 1.9880050e-08,\n",
              "        5.8938111e-11, 6.1488901e-17],\n",
              "       ...,\n",
              "       [2.8723923e-30, 2.0374573e-18, 6.2887296e-25, ..., 2.9736163e-15,\n",
              "        1.8579784e-20, 1.7977228e-12],\n",
              "       [5.9448031e-28, 4.7012936e-27, 3.8916411e-27, ..., 8.0440988e-21,\n",
              "        1.2532863e-11, 3.8912512e-29],\n",
              "       [9.3253720e-14, 3.0310537e-21, 9.6198892e-21, ..., 1.9601333e-21,\n",
              "        2.3315082e-23, 3.3117109e-28]], dtype=float32)"
            ]
          },
          "metadata": {},
          "execution_count": 18
        }
      ]
    },
    {
      "cell_type": "code",
      "source": [
        "y_pred = y_prob.argmax(axis=1)"
      ],
      "metadata": {
        "id": "3aVh5FSSXyL9"
      },
      "execution_count": 19,
      "outputs": []
    },
    {
      "cell_type": "code",
      "source": [
        "from sklearn.metrics import accuracy_score\n",
        "accuracy_score(y_test,y_pred)"
      ],
      "metadata": {
        "colab": {
          "base_uri": "https://localhost:8080/"
        },
        "id": "swvaSgw6V5AN",
        "outputId": "6d7dc4bf-696b-436b-d2fc-4c42748325c2"
      },
      "execution_count": 20,
      "outputs": [
        {
          "output_type": "execute_result",
          "data": {
            "text/plain": [
              "0.9729"
            ]
          },
          "metadata": {},
          "execution_count": 20
        }
      ]
    },
    {
      "cell_type": "code",
      "source": [
        "plt.plot(history.history['loss'])\n",
        "plt.plot(history.history['val_loss'])"
      ],
      "metadata": {
        "colab": {
          "base_uri": "https://localhost:8080/",
          "height": 447
        },
        "id": "RkwVzOkZV9Pu",
        "outputId": "4cefb8ec-0b6e-469f-dee9-6d41f09f7933"
      },
      "execution_count": 21,
      "outputs": [
        {
          "output_type": "execute_result",
          "data": {
            "text/plain": [
              "[<matplotlib.lines.Line2D at 0x79c2946b6770>]"
            ]
          },
          "metadata": {},
          "execution_count": 21
        },
        {
          "output_type": "display_data",
          "data": {
            "text/plain": [
              "<Figure size 640x480 with 1 Axes>"
            ],
            "image/png": "[encoded data removed]"
          },
          "metadata": {}
        }
      ]
    },
    {
      "cell_type": "code",
      "source": [
        "plt.plot(history.history['accuracy'])\n",
        "plt.plot(history.history['val_accuracy'])"
      ],
      "metadata": {
        "colab": {
          "base_uri": "https://localhost:8080/",
          "height": 447
        },
        "id": "w6Zp3Uc3V9Sg",
        "outputId": "8076f168-1df0-47fd-a6b7-581574516bd8"
      },
      "execution_count": 22,
      "outputs": [
        {
          "output_type": "execute_result",
          "data": {
            "text/plain": [
              "[<matplotlib.lines.Line2D at 0x79c2942d7bb0>]"
            ]
          },
          "metadata": {},
          "execution_count": 22
        },
        {
          "output_type": "display_data",
          "data": {
            "text/plain": [
              "<Figure size 640x480 with 1 Axes>"
            ],
            "image/png": "[encoded data removed]"
          },
          "metadata": {}
        }
      ]
    },
    {
      "cell_type": "code",
      "source": [
        "plt.imshow(x_test[0])"
      ],
      "metadata": {
        "colab": {
          "base_uri": "https://localhost:8080/",
          "height": 447
        },
        "id": "errddRRpV9Vv",
        "outputId": "5e6ce6c8-ffe2-413e-96bc-d4d16adce627"
      },
      "execution_count": 30,
      "outputs": [
        {
          "output_type": "execute_result",
          "data": {
            "text/plain": [
              "<matplotlib.image.AxesImage at 0x79c2940e4f70>"
            ]
          },
          "metadata": {},
          "execution_count": 30
        },
        {
          "output_type": "display_data",
          "data": {
            "text/plain": [
              "<Figure size 640x480 with 1 Axes>"
            ],
            "image/png": "[encoded data removed]"
          },
          "metadata": {}
        }
      ]
    },
    {
      "cell_type": "code",
      "source": [
        "model.predict(x_test[0].reshape(1,28,28)).argmax(axis=1)"
      ],
      "metadata": {
        "colab": {
          "base_uri": "https://localhost:8080/"
        },
        "id": "UVAXMHk-V9ZU",
        "outputId": "c0774b90-0d27-4222-a695-2433fd096b6f"
      },
      "execution_count": 32,
      "outputs": [
        {
          "output_type": "stream",
          "name": "stdout",
          "text": [
            "1/1 [==============================] - 0s 33ms/step\n"
          ]
        },
        {
          "output_type": "execute_result",
          "data": {
            "text/plain": [
              "array([7])"
            ]
          },
          "metadata": {},
          "execution_count": 32
        }
      ]
    },
    {
      "cell_type": "code",
      "source": [],
      "metadata": {
        "id": "rfr2uIt7V9dZ"
      },
      "execution_count": null,
      "outputs": []
    }
  ]
}